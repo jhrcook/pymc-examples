{
 "cells": [
  {
   "cell_type": "markdown",
   "metadata": {},
   "source": [
    "(tumoroscope)=\n",
    "# Tumoroscope – a generative model for inferring cancer cell clonality in spatial transcriptomics\n",
    "\n",
    ":::{post} Oct 26, 2022\n",
    ":tags: generative model, case study \n",
    ":category: intermediate, tutorial\n",
    ":author:  Joshua Cook\n",
    ":::"
   ]
  },
  {
   "cell_type": "code",
   "execution_count": null,
   "metadata": {},
   "outputs": [],
   "source": [
    "import os\n",
    "\n",
    "from dataclasses import dataclass\n",
    "\n",
    "import arviz as az\n",
    "import matplotlib.pyplot as plt\n",
    "import numpy as np\n",
    "import pandas as pd\n",
    "import pymc as pm\n",
    "\n",
    "%matplotlib inline\n",
    "print(f\"Running on PyMC v{pm.__version__}\")"
   ]
  },
  {
   "cell_type": "code",
   "execution_count": null,
   "metadata": {},
   "outputs": [],
   "source": [
    "RANDOM_SEED = 6\n",
    "az.style.use(\"arviz-darkgrid\")"
   ]
  },
  {
   "cell_type": "markdown",
   "metadata": {},
   "source": [
    "## Introduction\n",
    "\n",
    "Brief statement about goal of model and what is shown here.\n",
    "Make sure to cite the original paper using the following – {cite:p}`shafighi2022tumoroscope`\n",
    "\n",
    "### Motivation\n",
    "\n",
    "Research question.\n",
    "\n",
    "### The Tumoroscope model\n",
    "\n",
    "Describe the model"
   ]
  },
  {
   "cell_type": "markdown",
   "metadata": {
    "tags": []
   },
   "source": [
    "## Tumoroscope Model\n",
    "\n",
    "### Model definition\n",
    "\n",
    "Math description of the model."
   ]
  },
  {
   "cell_type": "markdown",
   "metadata": {},
   "source": [
    "### PyMC Implementation"
   ]
  },
  {
   "cell_type": "code",
   "execution_count": null,
   "metadata": {},
   "outputs": [],
   "source": [
    "@dataclass\n",
    "class TumoroscopeData:\n",
    "    \"\"\"Tumoroscope model input data.\"\"\"\n",
    "\n",
    "    K: int  # number of clones\n",
    "    S: int  # number of spots\n",
    "    M: int  # number of mutation positions\n",
    "    F: np.ndarray  # Prevalence of clones from bulk-DNA seq.\n",
    "    cell_counts: np.ndarray  # Number of cell counted per spot\n",
    "    C: np.ndarray  # Zygosity per position and clone\n",
    "    D_obs: np.ndarray | None  # Read count per position per spot\n",
    "    A_obs: np.ndarray | None  # Alternated reads per position per spot\n",
    "    zeta_s: float = 1.0  # Pi hyper-parameter\n",
    "    F_0: float = 1.0  # \"pseudo-frequency\" for lower bound on clone proportion\n",
    "    l: float = 100  # Scaling factor to discretize F\n",
    "    r: float = 0.1  # shape parameter for Gamma over Phi\n",
    "    p: float = 1.0  # rate parameter for Gamma over Phi\n",
    "\n",
    "\n",
    "def _prefixed_index(n: int, prefix: str) -> list[str]:\n",
    "    return [f\"{prefix}{i}\" for i in np.arange(n)]\n",
    "\n",
    "\n",
    "def _make_tumoroscope_model_coords(data: TumoroscopeData) -> dict[str, list[str]]:\n",
    "    coords = {\n",
    "        \"clone\": _prefixed_index(data.K, \"c\"),\n",
    "        \"spot\": _prefixed_index(data.S, \"s\"),\n",
    "        \"position\": _prefixed_index(data.M, \"p\"),\n",
    "    }\n",
    "    return coords\n",
    "\n",
    "\n",
    "def build_tumoroscope_model(data: TumoroscopeData, fixed: bool = False) -> pm.Model:\n",
    "    \"\"\"Build the 'Tumoroscope' model.\n",
    "    Args:\n",
    "        data (TumoroscopeData): Input data.\n",
    "        fixed (bool, optional): Whether to use the \"fixed\" version of the model\n",
    "        where the number of cells is assumed accurate. If `False` (default), the\n",
    "        provided number of cells per spot is used for the prior over of random\n",
    "        variable.\n",
    "    Returns:\n",
    "        pm.Model: PyMC model.\n",
    "    \"\"\"\n",
    "    coords = _make_tumoroscope_model_coords(data)\n",
    "    with pm.Model(coords=coords) as model:\n",
    "        zeta_s = pm.ConstantData(\"zeta_s\", data.zeta_s)\n",
    "        ell = pm.ConstantData(\"ell\", data.l)\n",
    "        F_0 = pm.ConstantData(\"F0\", data.F_0)\n",
    "        F = pm.ConstantData(\"F\", data.F, dims=\"clone\")\n",
    "        if not fixed:\n",
    "            Lambda = pm.ConstantData(\"Lambda\", data.cell_counts, dims=\"spot\")\n",
    "        r = pm.ConstantData(\"r\", data.r)\n",
    "        p = pm.ConstantData(\"p\", data.p)\n",
    "        C = pm.ConstantData(\"C\", data.C, dims=(\"position\", \"clone\"))\n",
    "\n",
    "        F_prime = pm.Deterministic(\"F_prime\", ell * at.ceil(20 * F) / 20, dims=\"clone\")\n",
    "\n",
    "        Pi = pm.Beta(\"Pi\", alpha=zeta_s / data.K, beta=1, dims=(\"spot\", \"clone\"))\n",
    "        Z = pm.Bernoulli(\"Z\", p=Pi, dims=(\"spot\", \"clone\"))\n",
    "        G = pm.Gamma(\"G\", (F_prime[None, :] ** Z) * (F_0 ** (1 - Z)), 1, dims=(\"spot\", \"clone\"))\n",
    "        H = pm.Deterministic(\"H\", G / G.sum(axis=1)[:, None], dims=(\"spot\", \"clone\"))\n",
    "\n",
    "        if fixed:\n",
    "            N = pm.ConstantData(\"N\", data.cell_counts, dims=\"spot\")\n",
    "        else:\n",
    "            N = pm.Poisson(\"N\", Lambda, dims=\"spot\")\n",
    "        Phi = pm.Gamma(\"Phi\", r, p, dims=(\"position\", \"clone\"))\n",
    "\n",
    "        D = pm.Poisson(\"D\", N * H.dot(Phi.T).T, dims=(\"position\", \"spot\"), observed=data.D_obs)\n",
    "        _A_num = H.dot((Phi * C).T).T\n",
    "        _A_denom = H.dot(Phi.T).T\n",
    "        A_prob = pm.Deterministic(\"A_prob\", _A_num / _A_denom, dims=(\"position\", \"spot\"))\n",
    "        pm.Binomial(\"A\", D, A_prob, dims=(\"position\", \"spot\"), observed=data.A_obs)\n",
    "    return model"
   ]
  },
  {
   "cell_type": "markdown",
   "metadata": {},
   "source": [
    "Build the model with random data to show structure of DAG"
   ]
  },
  {
   "cell_type": "code",
   "execution_count": null,
   "metadata": {
    "tags": []
   },
   "outputs": [],
   "source": [
    "np.random.seed(RANDOM_SEED)\n",
    "mock_tumor_data = TumoroscopeData(\n",
    "    K=5,\n",
    "    S=10,\n",
    "    M=40,\n",
    "    F=np.ones(5) / 5.0,\n",
    "    cell_counts=np.random.randint(1, 20, size=10),\n",
    "    C=np.random.beta(2, 2, size=(40, 5)),\n",
    "    D_obs=np.random.randint(2, 20, size=(40, 10)),\n",
    "    A_obs=np.random.randint(2, 20, size=(40, 10)),\n",
    ")\n",
    "pm.model_to_graphviz(tumoroscope(mock_tumor_data))"
   ]
  },
  {
   "cell_type": "markdown",
   "metadata": {},
   "source": [
    "## Simultation\n",
    "\n",
    "### Data generation\n",
    "\n",
    "Describe the general data simulation process."
   ]
  },
  {
   "cell_type": "markdown",
   "metadata": {},
   "source": [
    "## Sampling and convergence"
   ]
  },
  {
   "cell_type": "code",
   "execution_count": null,
   "metadata": {},
   "outputs": [],
   "source": [
    "# with model:\n",
    "#     trace = pm.sample(1000, tune=1500, random_seed=RANDOM_SEED)"
   ]
  },
  {
   "cell_type": "code",
   "execution_count": null,
   "metadata": {},
   "outputs": [],
   "source": [
    "# az.plot_energy(trace);"
   ]
  },
  {
   "cell_type": "code",
   "execution_count": null,
   "metadata": {},
   "outputs": [],
   "source": [
    "# Also show R_hat and ESS values"
   ]
  },
  {
   "cell_type": "markdown",
   "metadata": {},
   "source": [
    "## Posterior analysis"
   ]
  },
  {
   "cell_type": "markdown",
   "metadata": {},
   "source": [
    "## Potential model changes\n",
    "\n",
    "Suggest a few changes such as adding priors to some hyperparameters and directly using the Dirichlet distribution."
   ]
  },
  {
   "cell_type": "code",
   "execution_count": null,
   "metadata": {},
   "outputs": [],
   "source": []
  },
  {
   "cell_type": "markdown",
   "metadata": {
    "tags": []
   },
   "source": [
    "## Authors\n",
    " \n",
    "* Based on the description of Tumoroscope from the bioR$\\chi$iv pre-print [\"Tumoroscope: a probabilistic model for mapping cancer clones in tumor tissues\"](https://www.biorxiv.org/content/10.1101/2022.09.22.508914v1) by [Shafighi](http://orcid.org/0000-0003-0367-8864) *et al.* published in 2022.\n",
    "* Adapted from the [notebook on the PyMC implementation of Tumoroscope](https://github.com/jhrcook/pymc-tumoroscope) by [Joshua Cook](https://joshuacook.netlify.app/) ([GitHub profile](https://github.com/jhrcook))."
   ]
  },
  {
   "cell_type": "markdown",
   "metadata": {},
   "source": [
    "## References\n",
    "\n",
    ":::{bibliography}\n",
    ":filter: docname in docnames\n",
    ":::"
   ]
  },
  {
   "cell_type": "markdown",
   "metadata": {},
   "source": [
    "## Watermark"
   ]
  },
  {
   "cell_type": "code",
   "execution_count": null,
   "metadata": {
    "tags": []
   },
   "outputs": [],
   "source": [
    "%load_ext watermark\n",
    "%watermark -n -u -v -iv -w -p aesara,aeppl,xarray"
   ]
  },
  {
   "cell_type": "markdown",
   "metadata": {},
   "source": [
    ":::{include} ../page_footer.md\n",
    ":::"
   ]
  }
 ],
 "metadata": {
  "kernelspec": {
   "display_name": "Python 3 (ipykernel)",
   "language": "python",
   "name": "python3"
  },
  "language_info": {
   "codemirror_mode": {
    "name": "ipython",
    "version": 3
   },
   "file_extension": ".py",
   "mimetype": "text/x-python",
   "name": "python",
   "nbconvert_exporter": "python",
   "pygments_lexer": "ipython3",
   "version": "3.10.6"
  }
 },
 "nbformat": 4,
 "nbformat_minor": 4
}
