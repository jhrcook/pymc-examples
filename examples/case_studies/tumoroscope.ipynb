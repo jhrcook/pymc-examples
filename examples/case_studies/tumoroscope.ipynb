{
 "cells": [
  {
   "cell_type": "markdown",
   "metadata": {},
   "source": [
    "(tumoroscope)=\n",
    "# Tumoroscope – a generative model for inferring cancer cell clonality in spatial transcriptomics\n",
    "\n",
    ":::{post} Oct 26, 2022\n",
    ":tags: generative model, case study \n",
    ":category: intermediate, tutorial\n",
    ":author:  Joshua Cook\n",
    ":::"
   ]
  },
  {
   "cell_type": "code",
   "execution_count": null,
   "metadata": {},
   "outputs": [],
   "source": [
    "import os\n",
    "\n",
    "from dataclasses import dataclass\n",
    "\n",
    "import arviz as az\n",
    "import matplotlib.pyplot as plt\n",
    "import numpy as np\n",
    "import pandas as pd\n",
    "import pymc as pm\n",
    "\n",
    "%matplotlib inline\n",
    "print(f\"Running on PyMC v{pm.__version__}\")"
   ]
  },
  {
   "cell_type": "code",
   "execution_count": null,
   "metadata": {},
   "outputs": [],
   "source": [
    "RANDOM_SEED = 6\n",
    "az.style.use(\"arviz-darkgrid\")"
   ]
  },
  {
   "cell_type": "markdown",
   "metadata": {},
   "source": [
    "## Introduction\n",
    "\n",
    "Many (if not all) cancers progress via an evolutionary process whereby multiple clones develop with new mutations over time, resulting in a heterogenous, multi-clonal population of cells comprising a tumor.\n",
    "Understanding this evolutionary process and the physical distribution of clones is essential to optimal therapeutic development and treatment.\n",
    "Tumoroscope {cite:p}`shafighi2022tumoroscope` was designed as a generative, probabilistic model to estimate the proportion of each known clone of a tumor in each spot in a spatial transcriptomics dataset.\n",
    "Here, I have built the Tumoroscope model in PyMC from the description in the manuscript and then present a demonstration with simulated data.\n",
    "\n",
    "In addition, this implementation has been converted into a `pip`-installable package: [`tumoroscope-pymc`](https://github.com/jhrcook/tumoroscope-pymc).\n",
    "Finally, more simulations and tweaks of the model have been explored in the original notebook from which this tutorial was adapted - a link to this notebook is provided at the top of the page."
   ]
  },
  {
   "cell_type": "markdown",
   "metadata": {},
   "source": [
    "### Motivation\n",
    "\n",
    "> This case study is biology-heavy and can be rather niche.\n",
    "> I have done my best to simplify the problem and only present the level of complexity necessary to understand the model.\n",
    "> Changes to improve the readability or clarity of this notebook are welcome.\n",
    "\n",
    "Tumor progression can be modeled as an evolutionary process whereby cells develop mutations that are either neutral, beneficial, or determental to their growth.\n",
    "This process results in a heterogenous mixture of subpopulations, or *clones*, present in different proportions.\n",
    "Understanding this process and the variaty of clonality of a tumor are important factors in how a patient's tumor responds to therapy.\n",
    "\n",
    "Often, the evolutionary tree of a tumor can be built through single cell or bulk DNA sequencing, that is sequencing the genomes of individual cells or a large sample of the tumor.\n",
    "While the former provides greater detail (by inspecting a single cell at a time), single cell DNA sequencing methods are still rather error-prone and suffer from far lower coverage than more traditional bulk sequencing methods.\n",
    "The term \"coverage\" refers to the level of evidence across the entire genome.\n",
    "Since each cell only has one copy of each chromosome, coverage can be increased by amplifying the DNA, a process that can introduce further errors and bias.\n",
    "Bulk DNA sequencing, reading the genome of many (hundreds of thousands) of cells at a time, has greater coverage (because there is more DNA), but lower resolution because the cells' genomes are all pooled together.\n",
    "Yet, there exist methods to use the proportions of detected mutations to build the evolutionary tree by which the clones developed.\n",
    "Tumoroscope, uses such methods and bulk DNA sequencing to determine the clones present in a tumor and the identifying mutations of each clone.\n",
    "\n",
    "Transcriptomics is the study of reading the RNA in a biological sample.\n",
    "A common use of these methods is to study the levels of messenger RNA (mRNA), the intermediate molecule between the information stored in genes in DNA and functional elements of a cell, proteins.\n",
    "These measurements, often referred to as the *expression* of a gene, can tell a researcher a lot about the behavior and state of a cell.\n",
    "Spatial transcriptomics is a relatively nascent field of study whereby the RNA of a small region on a tissue, often down to just a few cells and called a *spot*, can be read.\n",
    "Repeating this process over a grid of a tissue results in spatially-resolved transcriptomics.\n",
    "\n",
    "Tumoroscope integrates bulk DNA sequencing and spatial transcriptomics to estimate the proportion of each cancer clone in a spot.\n",
    "Bulk DNA sequencing is used to discover the clones in a tumor and their identifying mutations.\n",
    "The RNA transcript data of each spot is used to estimate the proportion of each clone in the given spot.\n",
    "The main difficulty is in the relatively low coverage of the genome by the RNA, information for some of the identifying mutations will be captured, but many will be uninformed.\n",
    "Tumoroscope models the data-generating process to provide a probability for these proportions."
   ]
  },
  {
   "cell_type": "markdown",
   "metadata": {},
   "source": [
    "### The Tumoroscope model\n",
    "\n",
    "Below is a diagram of the (**a-f**) data generating process and (**g**) Tumoroscope model.\n",
    "(Panel **h** shows an additional model presented in the paper for studying the transcriptomic profile of each tumor clone after determining the clone proportions in each spot of the spatial transcriptomics; it is an optimization problem and thus not included in this tutorial.)\n",
    "First, I shall briefly describe the data-generating process as described by the figure, followed by how this is modeled in Tumoroscope.\n",
    "\n",
    "![Tumoroscope diagram](https://raw.githubusercontent.com/jhrcook/tumoroscope-pymc/master/tumoroscope-diagram.jpeg)"
   ]
  },
  {
   "cell_type": "markdown",
   "metadata": {},
   "source": [
    "#### Data-generating process\n",
    "\n",
    "Here is a somewhat hypothetical description of the system that is being measured.\n",
    "The tumor has grown, and along the way multiple subpopulations have formed as various cells have acquired mutations and continued to divide.\n",
    "These sets of mutations at the identified positions of the genome act as a fingerprint for each clone.\n",
    "The clonal structure can be inferred from sequencing the DNA from a sample of the tumor (**b** and **e**).\n",
    "Humans have two copies of each chromosome, and usually a unique mutation is only acquired on one of the copies.\n",
    "It is possible to gain or lose sections of DNA, though, resulting in changes to the *zygosity* of the clone at those locations of the genome.\n",
    "If the *copy number* of the region in which a mutation exists changes, the number of instances of the mutation in the genome of a single cell will change, too.\n",
    "For instance, a duplication of the region on the chromsome with the mutation reults in two copies of the mutation and copy of the original (called *wild type*) DNA sequence.\n",
    "\n",
    "A slice of the tumor has been taken and prepared for microscopy (**a**) and spatial transcriptomics (**c**).\n",
    "Each spot of the spatial transcriptomics potentially contains multiple cells (in this case usually between 3-6 cells).\n",
    "Each of these cells belongs to one of the known clones and carries that specific pattern of mutations and the corresponding zygosity in each region.\n",
    "These cells produce mRNA by transcribing their genes and these transcripts contain the mutations for each clone, too.\n",
    "The zygosity (ratio of mutated to not-mutated) at the mutation position likely corresponds to the ratio of transcripts, too, that is if there are multiple copies of the mutated region, there will be more transcripts with the mutation.\n",
    "Due to limitations of the technology, the actual mRNA transcripts captured during the spatial transcriptomics process will only cover part of the genome in each spot.\n",
    "Depending on the clonal composition of the cells in the spot, only a fraction of the total captured mRNA transcripts, called *reads* will contain a mutation in a position – these trancripts are referred to as *alternative reads*."
   ]
  },
  {
   "cell_type": "markdown",
   "metadata": {},
   "source": [
    "#### Model structure\n",
    "\n",
    "The authors of the original publication provide a great description of the model in the Methods section, so if you need clarification on any parts of the model, I would recommend consulting the original text first.\n",
    "\n",
    "Below is a list of the indices used in this model:\n",
    "\n",
    "- mutation position $i \\in \\{1, \\dots, M\\}$\n",
    "- clone $k \\in \\{1, \\dots, K\\}$\n",
    "- spot $s \\in \\{1, \\dots, S\\}$\n",
    "\n",
    "Below is a list of the observed data in the model:\n",
    "\n",
    "- $C^{[M\\times K]} \\in [0, 1]$: the zygosity at position $i$ in clone $k$\n",
    "- $D^{[M\\times S]} \\in \\mathbb{Z}^*$: the total number of reads that cover position $i$ in spot $s$ where $\\mathbb{Z}^+$ is the set of all non-negative integers\n",
    "- $A^{[M\\times S]} \\in \\mathbb{Z}^*$: the total number of *alternative* (i.e. mutated) reads that cover position $i$ in spot $s$\n",
    "- $N^{[S]} \\in \\mathbb Z^+$: number of cells in spot $s$ where $\\mathbb{Z}^+$ is the set of all positive integers\n",
    "- $F^{[K]} \\in [0, 1]$: the proportion of clones $k$ in the tumor sample; $\\sum_k^K F = 1$\n",
    "\n",
    "With all of this infrastructure, we can get to the description of the model.\n",
    "Variable $Z^{[S \\times K]}$ is an indicator of whether clone $k$ is present in spot $s$ and is defined as a Bernoulli distribution with parameter $\\Pi$ which in turn has a Beta prior distribution with hyperparameter $\\zeta_s$\n",
    "\n",
    "\\begin{aligned}\n",
    "\\mathbb{P}(Z | \\Pi) &\\sim \\text{Bernoulli}(\\Pi) \\\\\n",
    "\\mathbb{P}(\\Pi | \\zeta_s, K) &\\sim \\text{Beta}(\\frac{\\zeta_s}{K}, 1)\n",
    "\\end{aligned}"
   ]
  },
  {
   "cell_type": "markdown",
   "metadata": {
    "tags": []
   },
   "source": [
    "## Tumoroscope Model\n",
    "\n",
    "### Model definition\n",
    "\n",
    "Math description of the model."
   ]
  },
  {
   "cell_type": "markdown",
   "metadata": {},
   "source": [
    "### PyMC Implementation"
   ]
  },
  {
   "cell_type": "code",
   "execution_count": null,
   "metadata": {},
   "outputs": [],
   "source": [
    "@dataclass\n",
    "class TumoroscopeData:\n",
    "    \"\"\"Tumoroscope model input data.\"\"\"\n",
    "\n",
    "    K: int  # number of clones\n",
    "    S: int  # number of spots\n",
    "    M: int  # number of mutation positions\n",
    "    F: np.ndarray  # Prevalence of clones from bulk-DNA seq.\n",
    "    cell_counts: np.ndarray  # Number of cell counted per spot\n",
    "    C: np.ndarray  # Zygosity per position and clone\n",
    "    D_obs: np.ndarray | None  # Read count per position per spot\n",
    "    A_obs: np.ndarray | None  # Alternated reads per position per spot\n",
    "    zeta_s: float = 1.0  # Pi hyper-parameter\n",
    "    F_0: float = 1.0  # \"pseudo-frequency\" for lower bound on clone proportion\n",
    "    l: float = 100  # Scaling factor to discretize F\n",
    "    r: float = 0.1  # shape parameter for Gamma over Phi\n",
    "    p: float = 1.0  # rate parameter for Gamma over Phi\n",
    "\n",
    "\n",
    "def _prefixed_index(n: int, prefix: str) -> list[str]:\n",
    "    return [f\"{prefix}{i}\" for i in np.arange(n)]\n",
    "\n",
    "\n",
    "def _make_tumoroscope_model_coords(data: TumoroscopeData) -> dict[str, list[str]]:\n",
    "    coords = {\n",
    "        \"clone\": _prefixed_index(data.K, \"c\"),\n",
    "        \"spot\": _prefixed_index(data.S, \"s\"),\n",
    "        \"position\": _prefixed_index(data.M, \"p\"),\n",
    "    }\n",
    "    return coords\n",
    "\n",
    "\n",
    "def build_tumoroscope_model(data: TumoroscopeData, fixed: bool = False) -> pm.Model:\n",
    "    \"\"\"Build the 'Tumoroscope' model.\n",
    "    Args:\n",
    "        data (TumoroscopeData): Input data.\n",
    "        fixed (bool, optional): Whether to use the \"fixed\" version of the model\n",
    "        where the number of cells is assumed accurate. If `False` (default), the\n",
    "        provided number of cells per spot is used for the prior over of random\n",
    "        variable.\n",
    "    Returns:\n",
    "        pm.Model: PyMC model.\n",
    "    \"\"\"\n",
    "    coords = _make_tumoroscope_model_coords(data)\n",
    "    with pm.Model(coords=coords) as model:\n",
    "        zeta_s = pm.ConstantData(\"zeta_s\", data.zeta_s)\n",
    "        ell = pm.ConstantData(\"ell\", data.l)\n",
    "        F_0 = pm.ConstantData(\"F0\", data.F_0)\n",
    "        F = pm.ConstantData(\"F\", data.F, dims=\"clone\")\n",
    "        if not fixed:\n",
    "            Lambda = pm.ConstantData(\"Lambda\", data.cell_counts, dims=\"spot\")\n",
    "        r = pm.ConstantData(\"r\", data.r)\n",
    "        p = pm.ConstantData(\"p\", data.p)\n",
    "        C = pm.ConstantData(\"C\", data.C, dims=(\"position\", \"clone\"))\n",
    "\n",
    "        F_prime = pm.Deterministic(\"F_prime\", ell * at.ceil(20 * F) / 20, dims=\"clone\")\n",
    "\n",
    "        Pi = pm.Beta(\"Pi\", alpha=zeta_s / data.K, beta=1, dims=(\"spot\", \"clone\"))\n",
    "        Z = pm.Bernoulli(\"Z\", p=Pi, dims=(\"spot\", \"clone\"))\n",
    "        G = pm.Gamma(\"G\", (F_prime[None, :] ** Z) * (F_0 ** (1 - Z)), 1, dims=(\"spot\", \"clone\"))\n",
    "        H = pm.Deterministic(\"H\", G / G.sum(axis=1)[:, None], dims=(\"spot\", \"clone\"))\n",
    "\n",
    "        if fixed:\n",
    "            N = pm.ConstantData(\"N\", data.cell_counts, dims=\"spot\")\n",
    "        else:\n",
    "            N = pm.Poisson(\"N\", Lambda, dims=\"spot\")\n",
    "        Phi = pm.Gamma(\"Phi\", r, p, dims=(\"position\", \"clone\"))\n",
    "\n",
    "        D = pm.Poisson(\"D\", N * H.dot(Phi.T).T, dims=(\"position\", \"spot\"), observed=data.D_obs)\n",
    "        _A_num = H.dot((Phi * C).T).T\n",
    "        _A_denom = H.dot(Phi.T).T\n",
    "        A_prob = pm.Deterministic(\"A_prob\", _A_num / _A_denom, dims=(\"position\", \"spot\"))\n",
    "        pm.Binomial(\"A\", D, A_prob, dims=(\"position\", \"spot\"), observed=data.A_obs)\n",
    "    return model"
   ]
  },
  {
   "cell_type": "markdown",
   "metadata": {},
   "source": [
    "Build the model with random data to show structure of DAG"
   ]
  },
  {
   "cell_type": "code",
   "execution_count": null,
   "metadata": {
    "tags": []
   },
   "outputs": [],
   "source": [
    "np.random.seed(RANDOM_SEED)\n",
    "mock_tumor_data = TumoroscopeData(\n",
    "    K=5,\n",
    "    S=10,\n",
    "    M=40,\n",
    "    F=np.ones(5) / 5.0,\n",
    "    cell_counts=np.random.randint(1, 20, size=10),\n",
    "    C=np.random.beta(2, 2, size=(40, 5)),\n",
    "    D_obs=np.random.randint(2, 20, size=(40, 10)),\n",
    "    A_obs=np.random.randint(2, 20, size=(40, 10)),\n",
    ")\n",
    "pm.model_to_graphviz(tumoroscope(mock_tumor_data))"
   ]
  },
  {
   "cell_type": "markdown",
   "metadata": {},
   "source": [
    "## Simultation\n",
    "\n",
    "### Data generation\n",
    "\n",
    "Describe the general data simulation process."
   ]
  },
  {
   "cell_type": "markdown",
   "metadata": {},
   "source": [
    "## Sampling and convergence"
   ]
  },
  {
   "cell_type": "code",
   "execution_count": null,
   "metadata": {},
   "outputs": [],
   "source": [
    "# with model:\n",
    "#     trace = pm.sample(1000, tune=1500, random_seed=RANDOM_SEED)"
   ]
  },
  {
   "cell_type": "code",
   "execution_count": null,
   "metadata": {},
   "outputs": [],
   "source": [
    "# az.plot_energy(trace);"
   ]
  },
  {
   "cell_type": "code",
   "execution_count": null,
   "metadata": {},
   "outputs": [],
   "source": [
    "# Also show R_hat and ESS values"
   ]
  },
  {
   "cell_type": "markdown",
   "metadata": {},
   "source": [
    "## Posterior analysis"
   ]
  },
  {
   "cell_type": "markdown",
   "metadata": {},
   "source": [
    "## Potential model changes\n",
    "\n",
    "Suggest a few changes such as adding priors to some hyperparameters and directly using the Dirichlet distribution."
   ]
  },
  {
   "cell_type": "code",
   "execution_count": null,
   "metadata": {},
   "outputs": [],
   "source": []
  },
  {
   "cell_type": "markdown",
   "metadata": {
    "tags": []
   },
   "source": [
    "## Authors\n",
    " \n",
    "* Based on the description of Tumoroscope from the bioR$\\chi$iv pre-print [\"Tumoroscope: a probabilistic model for mapping cancer clones in tumor tissues\"](https://www.biorxiv.org/content/10.1101/2022.09.22.508914v1) by [Shafighi](http://orcid.org/0000-0003-0367-8864) *et al.* published in 2022.\n",
    "* Adapted from the [notebook on the PyMC implementation of Tumoroscope](https://github.com/jhrcook/pymc-tumoroscope) by [Joshua Cook](https://joshuacook.netlify.app/) ([GitHub profile](https://github.com/jhrcook))."
   ]
  },
  {
   "cell_type": "markdown",
   "metadata": {},
   "source": [
    "## References\n",
    "\n",
    ":::{bibliography}\n",
    ":filter: docname in docnames\n",
    ":::"
   ]
  },
  {
   "cell_type": "markdown",
   "metadata": {},
   "source": [
    "## Watermark"
   ]
  },
  {
   "cell_type": "code",
   "execution_count": null,
   "metadata": {
    "tags": []
   },
   "outputs": [],
   "source": [
    "%load_ext watermark\n",
    "%watermark -n -u -v -iv -w -p aesara,aeppl,xarray"
   ]
  },
  {
   "cell_type": "markdown",
   "metadata": {},
   "source": [
    ":::{include} ../page_footer.md\n",
    ":::"
   ]
  }
 ],
 "metadata": {
  "kernelspec": {
   "display_name": "Python 3 (ipykernel)",
   "language": "python",
   "name": "python3"
  },
  "language_info": {
   "codemirror_mode": {
    "name": "ipython",
    "version": 3
   },
   "file_extension": ".py",
   "mimetype": "text/x-python",
   "name": "python",
   "nbconvert_exporter": "python",
   "pygments_lexer": "ipython3",
   "version": "3.10.6"
  }
 },
 "nbformat": 4,
 "nbformat_minor": 4
}
